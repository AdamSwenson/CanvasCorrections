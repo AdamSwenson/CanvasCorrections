{
 "cells": [
  {
   "cell_type": "code",
   "execution_count": 1,
   "metadata": {
    "ExecuteTime": {
     "end_time": "2019-01-08T00:25:32.312856Z",
     "start_time": "2019-01-08T00:25:32.230232Z"
    }
   },
   "outputs": [
    {
     "ename": "ImportError",
     "evalue": "No module named 'Configuration'",
     "output_type": "error",
     "traceback": [
      "\u001b[0;31m---------------------------------------------------------------------------\u001b[0m",
      "\u001b[0;31mImportError\u001b[0m                               Traceback (most recent call last)",
      "\u001b[0;32m<ipython-input-1-c49197f23def>\u001b[0m in \u001b[0;36m<module>\u001b[0;34m()\u001b[0m\n\u001b[0;32m----> 1\u001b[0;31m \u001b[0;32mfrom\u001b[0m \u001b[0mConfiguration\u001b[0m \u001b[0;32mimport\u001b[0m \u001b[0mConfiguration\u001b[0m\u001b[0;34m\u001b[0m\u001b[0m\n\u001b[0m\u001b[1;32m      2\u001b[0m \u001b[0;31m# InteractiveConfiguration\u001b[0m\u001b[0;34m\u001b[0m\u001b[0;34m\u001b[0m\u001b[0m\n",
      "\u001b[0;31mImportError\u001b[0m: No module named 'Configuration'"
     ]
    }
   ],
   "source": [
    "# For use on colaboratory, grab the entire library\n",
    "!pip install CanvasCorrections\n",
    "\n",
    "# from Configuration import Configuration \n",
    "# InteractiveConfiguration"
   ]
  },
  {
   "cell_type": "code",
   "execution_count": null,
   "metadata": {
    "ExecuteTime": {
     "end_time": "2019-01-08T00:15:47.012637Z",
     "start_time": "2019-01-08T00:15:47.003701Z"
    }
   },
   "outputs": [],
   "source": []
  },
  {
   "cell_type": "code",
   "execution_count": null,
   "metadata": {},
   "outputs": [],
   "source": [
    "canvas_token_input = {'label' : 'Canvas token', 'handler': InteractiveConfiguration.handle_token_entry}\n",
    "\n",
    "make_text_input(canvas_token_input)"
   ]
  },
  {
   "cell_type": "code",
   "execution_count": null,
   "metadata": {},
   "outputs": [],
   "source": []
  },
  {
   "cell_type": "markdown",
   "metadata": {},
   "source": [
    "# Course ids"
   ]
  },
  {
   "cell_type": "code",
   "execution_count": null,
   "metadata": {},
   "outputs": [],
   "source": [
    "# Make box and buttons for course id entry. \n",
    "#On submit button click, class ids updates with the value in the text box\n",
    "t = widgets.Text(description='Class id')\n",
    "submit = widgets.Button(description='Add id')\n",
    "reset = widgets.Button(description='Reset ids')\n",
    "out = widgets.Output(layout={'border': '1px solid black'})\n",
    "\n",
    "\n",
    "def handle_add(change):\n",
    "    InteractiveConfiguration.add_course_id(t.value)\n",
    "    # Clear the box\n",
    "    t.value = ''\n",
    "    show_class_ids()\n",
    "\n",
    "def handle_reset(change):\n",
    "    InteractiveConfiguration.reset_course_ids()\n",
    "    show_class_ids()\n",
    "\n",
    "\n",
    "def show_class_ids():\n",
    "    out.clear_output()\n",
    "    with out:\n",
    "        print('    ----Canvas class ids----    ')\n",
    "        for cid in InteractiveConfiguration.course_ids:\n",
    "            print(cid)\n",
    "\n",
    "submit.on_click(handle_add)\n",
    "reset.on_click(handle_reset)\n",
    "button_box = widgets.HBox([reset, submit])\n",
    "input_box = widgets.VBox([t, button_box])\n",
    "widgets.HBox([input_box, out])"
   ]
  }
 ],
 "metadata": {
  "kernelspec": {
   "display_name": "Python 3",
   "language": "python",
   "name": "python3"
  },
  "language_info": {
   "codemirror_mode": {
    "name": "ipython",
    "version": 3
   },
   "file_extension": ".py",
   "mimetype": "text/x-python",
   "name": "python",
   "nbconvert_exporter": "python",
   "pygments_lexer": "ipython3",
   "version": "3.4.3"
  },
  "toc": {
   "base_numbering": 1,
   "nav_menu": {},
   "number_sections": true,
   "sideBar": true,
   "skip_h1_title": false,
   "title_cell": "Table of Contents",
   "title_sidebar": "Contents",
   "toc_cell": false,
   "toc_position": {},
   "toc_section_display": true,
   "toc_window_display": false
  }
 },
 "nbformat": 4,
 "nbformat_minor": 2
}
