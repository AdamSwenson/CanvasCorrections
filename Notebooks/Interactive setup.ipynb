{
 "cells": [
  {
   "cell_type": "code",
   "execution_count": null,
   "metadata": {
    "ExecuteTime": {
     "end_time": "2019-01-08T00:25:32.312856Z",
     "start_time": "2019-01-08T00:25:32.230232Z"
    }
   },
   "outputs": [],
   "source": [
    "# For use on colaboratory, grab the entire library\n",
    "!pip install CanvasCorrections\n"
   ]
  },
  {
   "cell_type": "markdown",
   "metadata": {
    "ExecuteTime": {
     "end_time": "2019-01-08T03:39:28.096516Z",
     "start_time": "2019-01-08T03:39:28.093104Z"
    }
   },
   "source": [
    "# Setup the configuration"
   ]
  },
  {
   "cell_type": "code",
   "execution_count": 2,
   "metadata": {
    "ExecuteTime": {
     "end_time": "2019-01-08T03:38:41.879749Z",
     "start_time": "2019-01-08T03:38:41.872761Z"
    }
   },
   "outputs": [],
   "source": [
    "from assets.Configuration import InteractiveConfiguration\n",
    "from assets.InputFields import make_course_ids_input, make_canvas_token_input, make_general_reset_button"
   ]
  },
  {
   "cell_type": "markdown",
   "metadata": {
    "ExecuteTime": {
     "end_time": "2019-01-08T03:38:44.144598Z",
     "start_time": "2019-01-08T03:38:44.140137Z"
    }
   },
   "source": [
    "## Canvas API Token\n",
    "\n",
    "Instructions go here...."
   ]
  },
  {
   "cell_type": "code",
   "execution_count": 4,
   "metadata": {
    "ExecuteTime": {
     "end_time": "2019-01-08T03:38:49.347216Z",
     "start_time": "2019-01-08T03:38:49.334077Z"
    }
   },
   "outputs": [
    {
     "data": {
      "application/vnd.jupyter.widget-view+json": {
       "model_id": "a0f1f56ba3bf43f7824552808e736b91",
       "version_major": 2,
       "version_minor": 0
      },
      "text/plain": [
       "Text(value='', description='Canvas token')"
      ]
     },
     "metadata": {},
     "output_type": "display_data"
    }
   ],
   "source": [
    "make_canvas_token_input()"
   ]
  },
  {
   "cell_type": "code",
   "execution_count": 5,
   "metadata": {
    "ExecuteTime": {
     "end_time": "2019-01-08T03:38:57.322761Z",
     "start_time": "2019-01-08T03:38:57.311709Z"
    }
   },
   "outputs": [
    {
     "data": {
      "text/plain": [
       "'fa'"
      ]
     },
     "execution_count": 5,
     "metadata": {},
     "output_type": "execute_result"
    }
   ],
   "source": [
    "# You may confirm that the token has been added to the configuration here\n",
    "InteractiveConfiguration.canvas_token"
   ]
  },
  {
   "cell_type": "markdown",
   "metadata": {},
   "source": [
    "## Course ids\n",
    "\n",
    "Instructions go here"
   ]
  },
  {
   "cell_type": "code",
   "execution_count": 6,
   "metadata": {
    "ExecuteTime": {
     "end_time": "2019-01-08T03:39:00.629042Z",
     "start_time": "2019-01-08T03:39:00.572951Z"
    }
   },
   "outputs": [
    {
     "data": {
      "application/vnd.jupyter.widget-view+json": {
       "model_id": "2da8939b04a24cf3a54e5eaafd7604fc",
       "version_major": 2,
       "version_minor": 0
      },
      "text/plain": [
       "HBox(children=(VBox(children=(Text(value='', description='Class id'), HBox(children=(Button(description='Reset…"
      ]
     },
     "metadata": {},
     "output_type": "display_data"
    }
   ],
   "source": [
    "make_course_ids_input()"
   ]
  },
  {
   "cell_type": "markdown",
   "metadata": {},
   "source": [
    "## Reseting the configuration (when you're done!)\n",
    "\n",
    "Closing your session will automatically wipe out the token and ids you've entered here. \n",
    "\n",
    "However, if you'd like to be sure that they've been removed, you can click the button below. The two cell's below the button should show you an empty list of ids (it looks like: [ ]) and that the token has been set to False"
   ]
  },
  {
   "cell_type": "code",
   "execution_count": null,
   "metadata": {
    "ExecuteTime": {
     "end_time": "2019-01-08T03:38:13.594955Z",
     "start_time": "2019-01-08T03:38:13.584298Z"
    }
   },
   "outputs": [],
   "source": [
    "make_general_reset_button()"
   ]
  },
  {
   "cell_type": "code",
   "execution_count": null,
   "metadata": {
    "ExecuteTime": {
     "end_time": "2019-01-08T03:21:12.398568Z",
     "start_time": "2019-01-08T03:21:12.392359Z"
    }
   },
   "outputs": [],
   "source": [
    "InteractiveConfiguration.course_ids"
   ]
  },
  {
   "cell_type": "code",
   "execution_count": 8,
   "metadata": {
    "ExecuteTime": {
     "end_time": "2019-01-08T03:40:41.511745Z",
     "start_time": "2019-01-08T03:40:41.506403Z"
    }
   },
   "outputs": [
    {
     "data": {
      "text/plain": [
       "'fa'"
      ]
     },
     "execution_count": 8,
     "metadata": {},
     "output_type": "execute_result"
    }
   ],
   "source": [
    "InteractiveConfiguration.canvas_token"
   ]
  },
  {
   "cell_type": "code",
   "execution_count": null,
   "metadata": {},
   "outputs": [],
   "source": []
  }
 ],
 "metadata": {
  "kernelspec": {
   "display_name": "Python 3",
   "language": "python",
   "name": "python3"
  },
  "language_info": {
   "codemirror_mode": {
    "name": "ipython",
    "version": 3
   },
   "file_extension": ".py",
   "mimetype": "text/x-python",
   "name": "python",
   "nbconvert_exporter": "python",
   "pygments_lexer": "ipython3",
   "version": "3.4.3"
  },
  "toc": {
   "base_numbering": 1,
   "nav_menu": {},
   "number_sections": true,
   "sideBar": true,
   "skip_h1_title": false,
   "title_cell": "Table of Contents",
   "title_sidebar": "Contents",
   "toc_cell": false,
   "toc_position": {},
   "toc_section_display": true,
   "toc_window_display": false
  }
 },
 "nbformat": 4,
 "nbformat_minor": 2
}
